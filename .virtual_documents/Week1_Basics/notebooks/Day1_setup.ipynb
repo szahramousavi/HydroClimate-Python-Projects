





# Import core libraries
import numpy as np
import pandas as pd
import matplotlib.pyplot as plt
import seaborn as sns



# Simple calculations
a = 10
b = 20
print("Sum:", a + b)

# Create a simple list and loop through it
rainfall = [2.3, 4.5, 3.6, 5.1]  # in mm
for r in rainfall:
    print(f"Rainfall: {r} mm")



# Create a simple DataFrame
data = {'Date': pd.date_range('2023-01-01', periods=4, freq='D'),
        'Rainfall_mm': rainfall}
df = pd.DataFrame(data)
print(df)

# Plot a simple time series
plt.figure(figsize=(6,4))
plt.plot(df['Date'], df['Rainfall_mm'], marker='o')
plt.title('Daily Rainfall')
plt.xlabel('Date')
plt.ylabel('Rainfall (mm)')
plt.grid()
plt.show()




